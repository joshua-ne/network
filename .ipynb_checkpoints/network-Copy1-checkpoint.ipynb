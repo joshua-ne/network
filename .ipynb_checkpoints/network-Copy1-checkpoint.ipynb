{
 "cells": [
  {
   "cell_type": "code",
   "execution_count": 229,
   "metadata": {},
   "outputs": [],
   "source": [
    "import networkx as nx\n",
    "import numpy as np\n",
    "import pandas as pd\n",
    "import random \n",
    "import matplotlib.pyplot as plt\n",
    "import math"
   ]
  },
  {
   "cell_type": "code",
   "execution_count": 230,
   "metadata": {},
   "outputs": [],
   "source": [
    "'''\n",
    "Network class that uses networkx graph to represent the network\n",
    "local variables:\n",
    "n: # of nodes\n",
    "m: # of links\n",
    "graph: graph representation of the network\n",
    "BANDWIDTH: bandwidth of each link if all links share the same bandwidth\n",
    "DELAY_LOW: lower bound of delay time for links\n",
    "DELAY_HIGH: higher bound of delay time for links\n",
    "'''\n",
    "\n",
    "class Network:\n",
    "    def __init__(self, n = 0, m = 0, input_file = None, BANDWIDTH = 10, DELAY_LOW = 5, DELAY_HIGH = 25):\n",
    "        self.BANDWIDTH = BANDWIDTH\n",
    "        self.DELAY_LOW = DELAY_LOW\n",
    "        self.DELAY_HIGH = DELAY_HIGH\n",
    "        \n",
    "        if (input_file):\n",
    "            self.graph = self.build_network_from_input_file(input_file)\n",
    "        else:\n",
    "            # build_random_network(self, n, m)\n",
    "            pass\n",
    "        \n",
    "    def build_network_from_input_file(self, input_file):\n",
    "        with open(input_file) as f:\n",
    "            self.n = int(next(f))\n",
    "            G = nx.Graph()\n",
    "            \n",
    "            # add nodes to the graph\n",
    "            G.add_nodes_from([0, self.n - 1])\n",
    "            \n",
    "            # add edges to the graph\n",
    "            \n",
    "            # get each row from input file\n",
    "            for _ in range(self.n):\n",
    "                cur_row = [int(x) for x in next(f).split()]\n",
    "                u = cur_row[0]\n",
    "                for v in cur_row[1:]:\n",
    "                    G.add_edge(u, v, bandwidth = self.BANDWIDTH, \\\n",
    "                               delay = random.randint(self.DELAY_LOW, self.DELAY_HIGH), \\\n",
    "                               residual_bandwidth = self.BANDWIDTH)\n",
    "                    \n",
    "            return G"
   ]
  },
  {
   "cell_type": "code",
   "execution_count": 231,
   "metadata": {},
   "outputs": [],
   "source": [
    "class Flow:\n",
    "    def __init__(self, src, des, bandwidth_request, delay_request):\n",
    "        self.bandwidth_request = bandwidth_request\n",
    "        self.delay_request = delay_request\n",
    "        self.src = src\n",
    "        self.des = des\n",
    "\n",
    "    def __str__(self):\n",
    "        return str((self.src, self.des, self.bandwidth_request, self.delay_request))\n",
    "  \n",
    "    def __repr__(self):\n",
    "        return str((self.src, self.des, self.bandwidth_request, self.delay_request))\n",
    "\n",
    "    \n",
    "    @classmethod\n",
    "    def generate_random_flow(self, network, BANDWIDTH_LOW = 1, BANDWIDTH_HIGH = 5, DELAY_LOW = 0, DELAY_HIGH = 200):\n",
    "        number_of_nodes = network.graph.number_of_nodes()\n",
    "        src = random.randint(0, number_of_nodes - 1)\n",
    "        des = src\n",
    "        while (des == src):\n",
    "            des = random.randint(0, number_of_nodes - 1)\n",
    "        return Flow(src, des, \\\n",
    "                    random.randint(BANDWIDTH_LOW, BANDWIDTH_HIGH), \\\n",
    "                    random.randint(DELAY_LOW, DELAY_HIGH))\n",
    "    \n",
    "    @classmethod\n",
    "    def generate_random_flows(self, n, network, BANDWIDTH_LOW = 1, BANDWIDTH_HIGH = 5, DELAY_LOW = 0, DELAY_HIGH = 200):\n",
    "        flows = []\n",
    "        for _ in range(n):\n",
    "            flows.append(Flow.generate_random_flow(network, BANDWIDTH_LOW = BANDWIDTH_LOW, BANDWIDTH_HIGH = BANDWIDTH_HIGH, DELAY_LOW = DELAY_LOW, DELAY_HIGH = DELAY_HIGH))\n",
    "        return flows"
   ]
  },
  {
   "cell_type": "code",
   "execution_count": 232,
   "metadata": {},
   "outputs": [],
   "source": [
    "def pd_mcr(network, flows):\n",
    "    \n",
    "    # Initialize x(e) := 0, ∀e∈E\n",
    "    for e in network.graph.edges():\n",
    "        u, v = e\n",
    "        network.graph[u][v]['x'] = 0\n",
    "    \n",
    "    num_of_accepted = 0\n",
    "    for flow in flows:\n",
    "        if (route(network, flow)):\n",
    "            num_of_accepted += 1\n",
    "    \n",
    "    success_rate = num_of_accepted / len(flows)\n",
    "#     print(\"success rate: \" + str(success_rate))\n",
    "    return success_rate"
   ]
  },
  {
   "cell_type": "code",
   "execution_count": 341,
   "metadata": {},
   "outputs": [],
   "source": [
    "def route(network, flow):\n",
    "#     print(\"trying to route: \" + str(flow))\n",
    "    path = mcr_bellman(network.graph, flow)\n",
    "    G = network.graph\n",
    "    n = network.graph.number_of_nodes()\n",
    "    \n",
    "    path_x = 0\n",
    "    path_delay = 0\n",
    "    \n",
    "    if path:\n",
    "        for e in path:\n",
    "            u, v = e\n",
    "            \n",
    "            G[u][v]['residual_bandwidth'] = G[u][v]['residual_bandwidth'] - flow.bandwidth_request\n",
    "            path_x = path_x + G[u][v]['x']\n",
    "            path_delay = path_delay + G[u][v]['delay']\n",
    "            \n",
    "            G[u][v]['x'] = G[u][v]['x'] * math.exp(math.log(1 + n) \\\n",
    "                                                   * flow.bandwidth_request / G[u][v]['bandwidth']) \\\n",
    "                            + 1 / n * (math.exp(math.log(1 + n) \\\n",
    "                                                   * flow.bandwidth_request / G[u][v]['bandwidth']) - 1)\n",
    "            \n",
    "#             print(u, v, G[u][v]['x'])\n",
    "#         print(\"--success, by path: \", path, ', x: ', path_x, ', delay: ', path_delay)\n",
    "        return True\n",
    "    \n",
    "    else:\n",
    "#         print(\"--fail to route!\")\n",
    "        return False"
   ]
  },
  {
   "cell_type": "code",
   "execution_count": 331,
   "metadata": {},
   "outputs": [],
   "source": [
    "'''\n",
    "flow: src, des, bandwidth_request, delay_request(c2 \\in Z), c1 = 1\n",
    "network: (G)  G[u][v]['delay'] -> w2; G[u][v]['x'] -> w1\n",
    "'''\n",
    "def mcr_bellman(G, flow):\n",
    "    # !!! note this is undirected graph, so need to relax twice for both directions\n",
    "    def relax(u, v, k):\n",
    "        kk = k + G[u][v]['delay']\n",
    "        if kk <= c2 and dist[v][kk] > dist[u][k] + G[u][v]['x']:\n",
    "            dist[v][kk] = dist[u][k] + G[u][v]['x']\n",
    "            par[v][kk] = u\n",
    "            \n",
    "    def construct_path():\n",
    "        \n",
    "        # path is feasible, reconstruct the path from end to start\n",
    "        path = []\n",
    "        prevNode = None\n",
    "        curNode = des\n",
    "        delay = 0\n",
    "#         pathNodes = {curNode}\n",
    "        \n",
    "        # check if the result is feasible, if not, return null\n",
    "        path_exist = False\n",
    "        for k in range(c2 + 1):\n",
    "            if dist[des][k] <= c1:\n",
    "#                 print(des, k, dist[des][k])\n",
    "                path.append((par[curNode][k], curNode))\n",
    "                prevNode, curNode = curNode, par[curNode][k]\n",
    "                delay = k\n",
    "                path_exist = True\n",
    "                break\n",
    "        \n",
    "        if not path_exist:\n",
    "            return None\n",
    "                \n",
    "        while curNode != src:\n",
    "#             print(curNode, prevNode, delay)\n",
    "            delay = delay - G[curNode][prevNode]['delay']\n",
    "            nextNode = par[curNode][delay]\n",
    "            prevNode, curNode = curNode, nextNode\n",
    "            path.append((curNode, prevNode))\n",
    "\n",
    "                    \n",
    "#         while curNode != src:\n",
    "#             for k in range(c2 + 1):\n",
    "# #                 if src == 2 and des == 11:\n",
    "# #                     print(k, curNode, par[curNode][k])\n",
    "#                 if par[curNode][k] != None and par[curNode][k] not in pathNodes:\n",
    "#                     path.append((par[curNode][k], curNode))\n",
    "#                     curNode = par[curNode][k]\n",
    "#                     pathNodes.add(curNode)\n",
    "#                     break\n",
    "        \n",
    "        # reverse list\n",
    "        path.reverse()\n",
    "        return path\n",
    "\n",
    "            \n",
    "#     G = network.graph\n",
    "    src = flow.src\n",
    "    des = flow.des\n",
    "    c1 = 1\n",
    "    c2 = flow.delay_request\n",
    "    n = G.number_of_nodes()\n",
    "    \n",
    "    # Initialization\n",
    "    dist = [[math.inf] * (c2 + 1) for _ in range(n)]\n",
    "    par = [[None] * (c2 + 1) for _ in range(n)]\n",
    "    for i in range(c2 + 1):\n",
    "        dist[src][i] = 0\n",
    "                \n",
    "    # Bellman-Ford\n",
    "    for j in range(n):\n",
    "        for k in range(c2 + 1):\n",
    "            for e in G.edges:\n",
    "                u, v = e\n",
    "                relax(u, v, k)\n",
    "                relax(v, u, k)\n",
    "    \n",
    "    \n",
    "#     print(dist)\n",
    "#     print(par)\n",
    "    # CONSTRUCT PATH\n",
    "    path = construct_path()\n",
    "\n",
    "    return path"
   ]
  },
  {
   "cell_type": "code",
   "execution_count": null,
   "metadata": {},
   "outputs": [],
   "source": []
  },
  {
   "cell_type": "code",
   "execution_count": null,
   "metadata": {},
   "outputs": [],
   "source": []
  },
  {
   "cell_type": "code",
   "execution_count": 30,
   "metadata": {},
   "outputs": [],
   "source": [
    "network = Network(input_file = \"net1.txt\", BANDWIDTH = 10, DELAY_LOW = 5, DELAY_HIGH = 25)"
   ]
  },
  {
   "cell_type": "code",
   "execution_count": 31,
   "metadata": {},
   "outputs": [
    {
     "data": {
      "image/png": "[encoded data removed]",
      "text/plain": [
       "<Figure size 432x288 with 1 Axes>"
      ]
     },
     "metadata": {},
     "output_type": "display_data"
    }
   ],
   "source": [
    "nx.draw(network.graph, with_labels = True)"
   ]
  },
  {
   "cell_type": "code",
   "execution_count": 32,
   "metadata": {},
   "outputs": [
    {
     "name": "stdout",
     "output_type": "stream",
     "text": [
      "[(1, 3, 1, 184), (8, 9, 4, 166), (5, 1, 5, 3), (6, 2, 4, 175), (10, 4, 5, 126), (9, 8, 1, 198), (12, 1, 5, 112), (8, 3, 3, 6), (6, 10, 2, 149), (10, 5, 3, 55), (9, 11, 4, 182), (0, 4, 4, 119), (0, 5, 1, 12), (9, 8, 5, 110), (0, 10, 1, 66)]\n"
     ]
    }
   ],
   "source": [
    "flows = Flow.generate_random_flows(15, network, BANDWIDTH_LOW = 1, BANDWIDTH_HIGH = 5, DELAY_LOW = 0, DELAY_HIGH = 200)\n",
    "print(flows)"
   ]
  },
  {
   "cell_type": "code",
   "execution_count": 33,
   "metadata": {},
   "outputs": [
    {
     "name": "stdout",
     "output_type": "stream",
     "text": [
      "trying to route: (1, 3, 1, 184)\n",
      "--success, by path:  [(1, 0), (0, 3)]\n",
      "trying to route: (8, 9, 4, 166)\n",
      "--success, by path:  [(8, 9)]\n",
      "trying to route: (5, 1, 5, 3)\n",
      "--fail to route!\n",
      "trying to route: (6, 2, 4, 175)\n",
      "--success, by path:  [(6, 4), (4, 5), (5, 2)]\n",
      "trying to route: (10, 4, 5, 126)\n",
      "--success, by path:  [(10, 13), (13, 5), (5, 4)]\n",
      "trying to route: (9, 8, 1, 198)\n",
      "--success, by path:  [(9, 8)]\n",
      "trying to route: (12, 1, 5, 112)\n",
      "--success, by path:  [(12, 5), (5, 2), (2, 1)]\n",
      "trying to route: (8, 3, 3, 6)\n",
      "--fail to route!\n",
      "trying to route: (6, 10, 2, 149)\n",
      "--success, by path:  [(6, 7), (7, 10)]\n",
      "trying to route: (10, 5, 3, 55)\n",
      "--success, by path:  [(10, 13), (13, 5)]\n",
      "trying to route: (9, 11, 4, 182)\n",
      "--success, by path:  [(9, 8), (8, 11)]\n",
      "trying to route: (0, 4, 4, 119)\n",
      "--success, by path:  [(0, 2), (2, 5), (5, 4)]\n",
      "trying to route: (0, 5, 1, 12)\n",
      "--fail to route!\n",
      "trying to route: (9, 8, 5, 110)\n",
      "--success, by path:  [(9, 8)]\n",
      "trying to route: (0, 10, 1, 66)\n",
      "--success, by path:  [(0, 3), (3, 8), (8, 9), (9, 10)]\n",
      "success rate: 0.8\n"
     ]
    }
   ],
   "source": [
    "pd_mcr(network, flows)"
   ]
  },
  {
   "cell_type": "code",
   "execution_count": null,
   "metadata": {},
   "outputs": [],
   "source": []
  },
  {
   "cell_type": "code",
   "execution_count": null,
   "metadata": {},
   "outputs": [],
   "source": []
  },
  {
   "cell_type": "code",
   "execution_count": 34,
   "metadata": {},
   "outputs": [],
   "source": [
    "network = Network(input_file = \"net50.txt\", BANDWIDTH = 10, DELAY_LOW = 5, DELAY_HIGH = 5)"
   ]
  },
  {
   "cell_type": "code",
   "execution_count": 35,
   "metadata": {},
   "outputs": [
    {
     "data": {
      "image/png": "[encoded data removed]",
      "text/plain": [
       "<Figure size 432x288 with 1 Axes>"
      ]
     },
     "metadata": {},
     "output_type": "display_data"
    }
   ],
   "source": [
    "nx.draw(network.graph, with_labels = True)"
   ]
  },
  {
   "cell_type": "code",
   "execution_count": 36,
   "metadata": {},
   "outputs": [
    {
     "name": "stdout",
     "output_type": "stream",
     "text": [
      "[(22, 48, 4, 106), (46, 23, 4, 57), (27, 41, 2, 13), (38, 40, 1, 147), (24, 28, 4, 126), (46, 49, 3, 108), (22, 7, 5, 2), (29, 20, 5, 124), (10, 4, 4, 78), (27, 18, 1, 76), (43, 3, 5, 120), (38, 36, 5, 77), (8, 2, 4, 55), (10, 42, 2, 74), (24, 43, 3, 96)]\n"
     ]
    }
   ],
   "source": [
    "flows = Flow.generate_random_flows(15, network, BANDWIDTH_LOW = 1, BANDWIDTH_HIGH = 5, DELAY_LOW = 0, DELAY_HIGH = 150)\n",
    "print(flows)"
   ]
  },
  {
   "cell_type": "code",
   "execution_count": 37,
   "metadata": {},
   "outputs": [
    {
     "name": "stdout",
     "output_type": "stream",
     "text": [
      "trying to route: (22, 48, 4, 106)\n",
      "--success, by path:  [(22, 6), (6, 38), (38, 48)]\n",
      "trying to route: (46, 23, 4, 57)\n",
      "--success, by path:  [(46, 28), (28, 23)]\n",
      "trying to route: (27, 41, 2, 13)\n",
      "--fail to route!\n",
      "trying to route: (38, 40, 1, 147)\n",
      "--success, by path:  [(38, 39), (39, 22), (22, 5), (5, 25), (25, 13), (13, 49), (49, 1), (1, 34), (34, 40)]\n",
      "trying to route: (24, 28, 4, 126)\n",
      "--success, by path:  [(24, 23), (23, 28)]\n",
      "trying to route: (46, 49, 3, 108)\n",
      "--success, by path:  [(46, 42), (42, 24), (24, 45), (45, 49)]\n",
      "trying to route: (22, 7, 5, 2)\n",
      "--fail to route!\n",
      "trying to route: (29, 20, 5, 124)\n",
      "--success, by path:  [(29, 28), (28, 44), (44, 4), (4, 5), (5, 32), (32, 3), (3, 20)]\n",
      "trying to route: (10, 4, 4, 78)\n",
      "--success, by path:  [(10, 35), (35, 4)]\n",
      "trying to route: (27, 18, 1, 76)\n",
      "--success, by path:  [(27, 21), (21, 5), (5, 25), (25, 18)]\n",
      "trying to route: (43, 3, 5, 120)\n",
      "--success, by path:  [(43, 3)]\n",
      "trying to route: (38, 36, 5, 77)\n",
      "--success, by path:  [(38, 36)]\n",
      "trying to route: (8, 2, 4, 55)\n",
      "--success, by path:  [(8, 2)]\n",
      "trying to route: (10, 42, 2, 74)\n",
      "--success, by path:  [(10, 44), (44, 28), (28, 46), (46, 42)]\n",
      "trying to route: (24, 43, 3, 96)\n",
      "--success, by path:  [(24, 45), (45, 49), (49, 13), (13, 31), (31, 32), (32, 43)]\n",
      "success rate: 0.8666666666666667\n"
     ]
    }
   ],
   "source": [
    "pd_mcr(network, flows)"
   ]
  },
  {
   "cell_type": "code",
   "execution_count": null,
   "metadata": {},
   "outputs": [],
   "source": []
  },
  {
   "cell_type": "code",
   "execution_count": null,
   "metadata": {},
   "outputs": [],
   "source": []
  },
  {
   "cell_type": "code",
   "execution_count": 101,
   "metadata": {},
   "outputs": [],
   "source": [
    "def e2e(network, flows):\n",
    "    num_of_accepted = 0\n",
    "    for flow in flows:\n",
    "        if (e2e_route(network, flow)):\n",
    "            num_of_accepted += 1\n",
    "            \n",
    "    success_rate = num_of_accepted / len(flows)\n",
    "#     print(\"success rate: \" + str(success_rate))\n",
    "    return success_rate"
   ]
  },
  {
   "cell_type": "code",
   "execution_count": 100,
   "metadata": {},
   "outputs": [],
   "source": [
    "def e2e_route(network, flow):\n",
    "#     print(\"trying to route: \" + str(flow))\n",
    "    G = network.graph\n",
    "    n = network.graph.number_of_nodes()\n",
    "    \n",
    "    # create subgraph for current flow\n",
    "    valid_edges = []\n",
    "    for e in G.edges():\n",
    "        u, v = e\n",
    "        if G[u][v]['residual_bandwidth'] >= flow.bandwidth_request:\n",
    "            valid_edges.append(e)\n",
    "    \n",
    "    curG = G.edge_subgraph(valid_edges)\n",
    "    \n",
    "    max_bandwidth_utilization = 0\n",
    "    \n",
    "    for e in curG.edges():\n",
    "        u, v = e;\n",
    "        G[u][v]['bandwidth_utilization'] = flow.bandwidth_request / G[u][v]['residual_bandwidth']\n",
    "        max_bandwidth_utilization = max(max_bandwidth_utilization, G[u][v]['bandwidth_utilization'])\n",
    "    \n",
    "    \n",
    "    path = e2e_mcr_bellman(curG, flow, max_bandwidth_utilization, n)\n",
    "    \n",
    "    if path:\n",
    "        for e in path:\n",
    "            u, v = e\n",
    "            G[u][v]['residual_bandwidth'] = G[u][v]['residual_bandwidth'] - flow.bandwidth_request\n",
    "#         print(\"--success, by path: \", path)\n",
    "        return True\n",
    "    \n",
    "    else:\n",
    "#         print(\"--fail to route!\")\n",
    "        return False"
   ]
  },
  {
   "cell_type": "code",
   "execution_count": 333,
   "metadata": {},
   "outputs": [],
   "source": [
    "'''\n",
    "flow: src, des, bandwidth_request, delay_request(c2 \\in Z), c1 = 1\n",
    "network: (G)  G[u][v]['delay'] -> w2; G[u][v]['x'] -> w1\n",
    "'''\n",
    "def e2e_mcr_bellman(G, flow, max_bandwidth_utilization, n):\n",
    "    \n",
    "    \n",
    "    # !!! note this is undirected graph, so need to relax twice for both directions\n",
    "    def relax(u, v, k):\n",
    "        kk = k + G[u][v]['delay']\n",
    "        if kk <= c2 and dist[v][kk] > dist[u][k] + G[u][v]['bandwidth_utilization']:\n",
    "            dist[v][kk] = dist[u][k] + G[u][v]['bandwidth_utilization']\n",
    "            par[v][kk] = u\n",
    "            \n",
    "    def construct_path():\n",
    "        \n",
    "        # path is feasible, reconstruct the path from end to start\n",
    "        path = []\n",
    "        prevNode = None\n",
    "        curNode = des\n",
    "        delay = 0\n",
    "#         pathNodes = {curNode}\n",
    "        \n",
    "        # check if the result is feasible, if not, return null\n",
    "        path_exist = False\n",
    "        for k in range(c2 + 1):\n",
    "            if dist[des][k] <= c1:\n",
    "#                 print(des, k, dist[des][k])\n",
    "                path.append((par[curNode][k], curNode))\n",
    "                prevNode, curNode = curNode, par[curNode][k]\n",
    "                delay = k\n",
    "                path_exist = True\n",
    "                break\n",
    "        \n",
    "        if not path_exist:\n",
    "            return None\n",
    "                \n",
    "        while curNode != src:\n",
    "#             print(curNode, prevNode, delay)\n",
    "            delay = delay - G[curNode][prevNode]['delay']\n",
    "            nextNode = par[curNode][delay]\n",
    "            prevNode, curNode = curNode, nextNode\n",
    "            path.append((curNode, prevNode))\n",
    "\n",
    "                    \n",
    "#         while curNode != src:\n",
    "#             for k in range(c2 + 1):\n",
    "# #                 if src == 2 and des == 11:\n",
    "# #                     print(k, curNode, par[curNode][k])\n",
    "#                 if par[curNode][k] != None and par[curNode][k] not in pathNodes:\n",
    "#                     path.append((par[curNode][k], curNode))\n",
    "#                     curNode = par[curNode][k]\n",
    "#                     pathNodes.add(curNode)\n",
    "#                     break\n",
    "        \n",
    "        # reverse list\n",
    "        path.reverse()\n",
    "        return path\n",
    "\n",
    "            \n",
    "#     G = network.graph\n",
    "#     n = G.number_of_nodes()\n",
    "    src = flow.src\n",
    "    des = flow.des\n",
    "    c1 = max_bandwidth_utilization * n\n",
    "    c2 = flow.delay_request\n",
    "    \n",
    "    \n",
    "    # Initialization\n",
    "    dist = [[math.inf] * (c2 + 1) for _ in range(n)]\n",
    "    par = [[None] * (c2 + 1) for _ in range(n)]\n",
    "    for i in range(c2 + 1):\n",
    "        dist[src][i] = 0\n",
    "                \n",
    "    # Bellman-Ford\n",
    "    for j in range(n):\n",
    "        for k in range(c2 + 1):\n",
    "            for e in G.edges:\n",
    "                u, v = e\n",
    "                relax(u, v, k)\n",
    "                relax(v, u, k)\n",
    "    \n",
    "    \n",
    "    # CONSTRUCT PATH\n",
    "    path = construct_path()\n",
    "\n",
    "    return path"
   ]
  },
  {
   "cell_type": "code",
   "execution_count": null,
   "metadata": {},
   "outputs": [],
   "source": []
  },
  {
   "cell_type": "code",
   "execution_count": 159,
   "metadata": {},
   "outputs": [
    {
     "name": "stdout",
     "output_type": "stream",
     "text": [
      "Testing:  1 flows\n",
      "pd_mcr:  1.0\n",
      "e2e:  1.0\n",
      "Testing:  11 flows\n",
      "pd_mcr:  0.9818181818181818\n",
      "e2e:  0.9636363636363636\n",
      "Testing:  21 flows\n",
      "pd_mcr:  0.8476190476190476\n",
      "e2e:  0.7047619047619047\n",
      "Testing:  31 flows\n",
      "pd_mcr:  0.7612903225806452\n",
      "e2e:  0.5548387096774193\n",
      "Testing:  41 flows\n",
      "pd_mcr:  0.6390243902439025\n",
      "e2e:  0.41463414634146345\n",
      "Testing:  51 flows\n",
      "pd_mcr:  0.5058823529411764\n",
      "e2e:  0.3411764705882353\n",
      "Testing:  61 flows\n",
      "pd_mcr:  0.4786885245901639\n",
      "e2e:  0.2918032786885246\n",
      "Testing:  71 flows\n",
      "pd_mcr:  0.4169014084507042\n",
      "e2e:  0.2704225352112676\n",
      "Testing:  81 flows\n",
      "pd_mcr:  0.3753086419753086\n",
      "e2e:  0.24691358024691357\n",
      "Testing:  91 flows\n",
      "pd_mcr:  0.3538461538461538\n",
      "e2e:  0.23076923076923078\n",
      "Testing:  101 flows\n",
      "pd_mcr:  0.3346534653465346\n",
      "e2e:  0.21782178217821785\n",
      "Testing:  111 flows\n",
      "pd_mcr:  0.3027027027027027\n",
      "e2e:  0.1747747747747748\n",
      "Testing:  121 flows\n",
      "pd_mcr:  0.3090909090909091\n",
      "e2e:  0.18016528925619832\n",
      "Testing:  131 flows\n",
      "pd_mcr:  0.28396946564885495\n",
      "e2e:  0.17099236641221371\n",
      "Testing:  141 flows\n",
      "pd_mcr:  0.25673758865248225\n",
      "e2e:  0.15177304964539007\n",
      "Testing:  151 flows\n",
      "pd_mcr:  0.2543046357615894\n",
      "e2e:  0.16026490066225169\n",
      "Testing:  161 flows\n",
      "pd_mcr:  0.231055900621118\n",
      "e2e:  0.14161490683229813\n",
      "Testing:  171 flows\n",
      "pd_mcr:  0.2128654970760234\n",
      "e2e:  0.13684210526315788\n",
      "Testing:  181 flows\n",
      "pd_mcr:  0.20662983425414364\n",
      "e2e:  0.11602209944751381\n",
      "Testing:  191 flows\n",
      "pd_mcr:  0.20523560209424083\n",
      "e2e:  0.11518324607329844\n"
     ]
    }
   ],
   "source": [
    "x = []\n",
    "acc_rate_pd_mcr = []\n",
    "acc_rate_e2e = []\n",
    "avg_bw_utilization_pd_mcr = []\n",
    "sd_bw_utilization_pd_mcr = []\n",
    "avg_bw_utilization_e2e = []\n",
    "sd_bw_utilization_e2e = []\n",
    "\n",
    "for num_of_flow in range(1,201, 10):\n",
    "    acc_rate_1 = []\n",
    "    acc_rate_2 = []\n",
    "    avg_bw_utilization_1 = []\n",
    "    sd_bw_utilization_1 = []\n",
    "    avg_bw_utilization_2 = []\n",
    "    sd_bw_utilization_2 = []\n",
    "    \n",
    "    print(\"Testing: \", num_of_flow, \"flows\")\n",
    "    for _ in range(5):\n",
    "        network = Network(input_file = \"net14.txt\", BANDWIDTH = 10, DELAY_LOW = 5, DELAY_HIGH = 5)\n",
    "        flows = Flow.generate_random_flows(num_of_flow, network, BANDWIDTH_LOW = 3, BANDWIDTH_HIGH = 5, DELAY_LOW = 0, DELAY_HIGH = 200)\n",
    "        \n",
    "        network = Network(input_file = \"net14.txt\", BANDWIDTH = 10, DELAY_LOW = 5, DELAY_HIGH = 5)\n",
    "        acc_rate_1.append(pd_mcr(network, flows))\n",
    "        avg, sd = calc_bw_utilization(network)\n",
    "        avg_bw_utilization_1.append(avg)\n",
    "        sd_bw_utilization_1.append(sd)\n",
    "        \n",
    "        \n",
    "        \n",
    "        network = Network(input_file = \"net14.txt\", BANDWIDTH = 10, DELAY_LOW = 5, DELAY_HIGH = 5)\n",
    "        acc_rate_2.append(e2e(network, flows))\n",
    "        avg, sd = calc_bw_utilization(network)\n",
    "        avg_bw_utilization_2.append(avg)\n",
    "        sd_bw_utilization_2.append(sd)\n",
    "    \n",
    "    print(\"pd_mcr: \", sum(acc_rate_1) / len(acc_rate_1))\n",
    "    print(\"e2e: \", sum(acc_rate_2) / len(acc_rate_2))\n",
    "    \n",
    "    x.append(num_of_flow)\n",
    "    \n",
    "    acc_rate_pd_mcr.append(sum(acc_rate_1) / len(acc_rate_1))\n",
    "    acc_rate_e2e.append(sum(acc_rate_2) / len(acc_rate_2))\n",
    "    \n",
    "    avg_bw_utilization_pd_mcr.append(sum(avg_bw_utilization_1)/len(avg_bw_utilization_1))\n",
    "    avg_bw_utilization_e2e.append(sum(avg_bw_utilization_2)/len(avg_bw_utilization_2))\n",
    "    \n",
    "    \n",
    "    sd_bw_utilization_pd_mcr.append(sum(sd_bw_utilization_1)/len(sd_bw_utilization_1))\n",
    "    sd_bw_utilization_e2e.append(sum(sd_bw_utilization_2)/len(sd_bw_utilization_2))"
   ]
  },
  {
   "cell_type": "code",
   "execution_count": null,
   "metadata": {},
   "outputs": [],
   "source": [
    "import statistics\n",
    "def calc_bw_utilization(network):\n",
    "    G = network.graph\n",
    "    bw_util = []\n",
    "    for e in G.edges():\n",
    "        u, v = e\n",
    "        bw_util.append(1 - G[u][v]['residual_bandwidth'] / G[u][v]['bandwidth'])\n",
    "        \n",
    "    avg = statistics.mean(bw_util)\n",
    "    sd = statistics.stdev(bw_util)\n",
    "    return avg, sd\n",
    "    "
   ]
  },
  {
   "cell_type": "code",
   "execution_count": 160,
   "metadata": {},
   "outputs": [
    {
     "data": {
      "image/png": "[encoded data removed]",
      "text/plain": [
       "<Figure size 432x288 with 1 Axes>"
      ]
     },
     "metadata": {
      "needs_background": "light"
     },
     "output_type": "display_data"
    }
   ],
   "source": [
    "import matplotlib.pyplot as plt    \n",
    "plt.xlabel(\"Number of Flows\")\n",
    "plt.ylabel(\"Mean Acceptance Rate of 5 experiments\")\n",
    "plt.title(\"Acceptance Rate\")\n",
    "plt.plot(x,acc_rate_pd_mcr,label='pd_mcr')\n",
    "plt.plot(x,acc_rate_e2e,label='e2e')\n",
    "plt.legend()\n",
    "plt.savefig('net1_experiment.pdf')\n",
    "plt.show()\n"
   ]
  },
  {
   "cell_type": "code",
   "execution_count": 148,
   "metadata": {},
   "outputs": [
    {
     "data": {
      "image/png": "[encoded data removed]",
      "text/plain": [
       "<Figure size 432x288 with 1 Axes>"
      ]
     },
     "metadata": {
      "needs_background": "light"
     },
     "output_type": "display_data"
    }
   ],
   "source": [
    "import matplotlib.pyplot as plt    \n",
    "plt.xlabel(\"Number of Flows\")\n",
    "plt.ylabel(\"Average Utilization of 3 experiments\")\n",
    "plt.title(\"Average Utilization\")\n",
    "plt.plot(x,avg_bw_utilization_pd_mcr,label='pd_mcr')\n",
    "plt.plot(x,avg_bw_utilization_e2e,label='e2e')\n",
    "plt.legend()\n",
    "plt.show()"
   ]
  },
  {
   "cell_type": "code",
   "execution_count": 149,
   "metadata": {},
   "outputs": [
    {
     "data": {
      "image/png": "[encoded data removed]",
      "text/plain": [
       "<Figure size 432x288 with 1 Axes>"
      ]
     },
     "metadata": {
      "needs_background": "light"
     },
     "output_type": "display_data"
    }
   ],
   "source": [
    "import matplotlib.pyplot as plt    \n",
    "plt.xlabel(\"Number of Flows\")\n",
    "plt.ylabel(\"Average Utilization Rate Standard Deviation of 3 experiments\")\n",
    "plt.title(\"Average Utilization Rate Standard Deviation\")\n",
    "plt.plot(x,sd_bw_utilization_pd_mcr,label='pd_mcr')\n",
    "plt.plot(x,sd_bw_utilization_e2e,label='e2e')\n",
    "plt.legend()\n",
    "plt.show()"
   ]
  },
  {
   "cell_type": "code",
   "execution_count": null,
   "metadata": {},
   "outputs": [],
   "source": []
  },
  {
   "cell_type": "code",
   "execution_count": 161,
   "metadata": {},
   "outputs": [
    {
     "name": "stdout",
     "output_type": "stream",
     "text": [
      "Testing:  1 flows\n",
      "pd_mcr:  1.0\n",
      "e2e:  1.0\n",
      "Testing:  21 flows\n",
      "pd_mcr:  0.7619047619047619\n",
      "e2e:  0.6666666666666666\n",
      "Testing:  41 flows\n",
      "pd_mcr:  0.8048780487804879\n",
      "e2e:  0.5365853658536586\n",
      "Testing:  61 flows\n",
      "pd_mcr:  0.7540983606557377\n",
      "e2e:  0.5409836065573771\n",
      "Testing:  81 flows\n",
      "pd_mcr:  0.6296296296296297\n",
      "e2e:  0.38271604938271603\n",
      "Testing:  101 flows\n",
      "pd_mcr:  0.5247524752475248\n",
      "e2e:  0.3465346534653465\n",
      "Testing:  121 flows\n",
      "pd_mcr:  0.4297520661157025\n",
      "e2e:  0.2892561983471074\n",
      "Testing:  141 flows\n",
      "pd_mcr:  0.46808510638297873\n",
      "e2e:  0.3049645390070922\n",
      "Testing:  161 flows\n",
      "pd_mcr:  0.40372670807453415\n",
      "e2e:  0.2360248447204969\n",
      "Testing:  181 flows\n",
      "pd_mcr:  0.36464088397790057\n",
      "e2e:  0.23204419889502761\n"
     ]
    }
   ],
   "source": [
    "x = []\n",
    "acc_rate_pd_mcr = []\n",
    "acc_rate_e2e = []\n",
    "avg_bw_utilization_pd_mcr = []\n",
    "sd_bw_utilization_pd_mcr = []\n",
    "avg_bw_utilization_e2e = []\n",
    "sd_bw_utilization_e2e = []\n",
    "\n",
    "for num_of_flow in range(1,201, 20):\n",
    "    acc_rate_1 = []\n",
    "    acc_rate_2 = []\n",
    "    avg_bw_utilization_1 = []\n",
    "    sd_bw_utilization_1 = []\n",
    "    avg_bw_utilization_2 = []\n",
    "    sd_bw_utilization_2 = []\n",
    "    \n",
    "    print(\"Testing: \", num_of_flow, \"flows\")\n",
    "    for _ in range(1):\n",
    "        network = Network(input_file = \"net50.txt\", BANDWIDTH = 10, DELAY_LOW = 5, DELAY_HIGH = 5)\n",
    "        flows = Flow.generate_random_flows(num_of_flow, network, BANDWIDTH_LOW = 3, BANDWIDTH_HIGH = 5, DELAY_LOW = 0, DELAY_HIGH = 200)\n",
    "        \n",
    "        network = Network(input_file = \"net50.txt\", BANDWIDTH = 10, DELAY_LOW = 5, DELAY_HIGH = 5)\n",
    "        acc_rate_1.append(pd_mcr(network, flows))\n",
    "        avg, sd = calc_bw_utilization(network)\n",
    "        avg_bw_utilization_1.append(avg)\n",
    "        sd_bw_utilization_1.append(sd)\n",
    "        \n",
    "        \n",
    "        \n",
    "        network = Network(input_file = \"net50.txt\", BANDWIDTH = 10, DELAY_LOW = 5, DELAY_HIGH = 5)\n",
    "        acc_rate_2.append(e2e(network, flows))\n",
    "        avg, sd = calc_bw_utilization(network)\n",
    "        avg_bw_utilization_2.append(avg)\n",
    "        sd_bw_utilization_2.append(sd)\n",
    "    \n",
    "    print(\"pd_mcr: \", sum(acc_rate_1) / len(acc_rate_1))\n",
    "    print(\"e2e: \", sum(acc_rate_2) / len(acc_rate_2))\n",
    "    \n",
    "    x.append(num_of_flow)\n",
    "    \n",
    "    acc_rate_pd_mcr.append(sum(acc_rate_1) / len(acc_rate_1))\n",
    "    acc_rate_e2e.append(sum(acc_rate_2) / len(acc_rate_2))\n",
    "    \n",
    "    avg_bw_utilization_pd_mcr.append(sum(avg_bw_utilization_1)/len(avg_bw_utilization_1))\n",
    "    avg_bw_utilization_e2e.append(sum(avg_bw_utilization_2)/len(avg_bw_utilization_2))\n",
    "    \n",
    "    \n",
    "    sd_bw_utilization_pd_mcr.append(sum(sd_bw_utilization_1)/len(sd_bw_utilization_1))\n",
    "    sd_bw_utilization_e2e.append(sum(sd_bw_utilization_2)/len(sd_bw_utilization_2))"
   ]
  },
  {
   "cell_type": "code",
   "execution_count": 162,
   "metadata": {},
   "outputs": [
    {
     "data": {
      "image/png": "[encoded data removed]",
      "text/plain": [
       "<Figure size 432x288 with 1 Axes>"
      ]
     },
     "metadata": {
      "needs_background": "light"
     },
     "output_type": "display_data"
    }
   ],
   "source": [
    "import matplotlib.pyplot as plt    \n",
    "plt.xlabel(\"Number of Flows\")\n",
    "plt.ylabel(\"Mean Acceptance Rate of 3 experiments\")\n",
    "plt.title(\"Acceptance Rate\")\n",
    "plt.plot(x,acc_rate_pd_mcr,label='pd_mcr')\n",
    "plt.plot(x,acc_rate_e2e,label='e2e')\n",
    "plt.legend()\n",
    "plt.savefig('net50_experiment.pdf')\n",
    "plt.show()"
   ]
  },
  {
   "cell_type": "code",
   "execution_count": 172,
   "metadata": {},
   "outputs": [
    {
     "name": "stdout",
     "output_type": "stream",
     "text": [
      "run time for pd_mcr:  24.362567901611328\n",
      "run time for e2e:  95.19281005859375\n"
     ]
    }
   ],
   "source": [
    "import time\n",
    "network = Network(input_file = \"net50.txt\", BANDWIDTH = 10, DELAY_LOW = 5, DELAY_HIGH = 5)\n",
    "flows = Flow.generate_random_flows(10, network, BANDWIDTH_LOW = 3, BANDWIDTH_HIGH = 5, DELAY_LOW = 0, DELAY_HIGH = 200)\n",
    "\n",
    "\n",
    "network = Network(input_file = \"net50.txt\", BANDWIDTH = 10, DELAY_LOW = 5, DELAY_HIGH = 5)\n",
    "start = time.time()\n",
    "pd_mcr(network, flows)\n",
    "print(\"run time for pd_mcr: \", time.time() - start)\n",
    "\n",
    "\n",
    "network = Network(input_file = \"net50.txt\", BANDWIDTH = 10, DELAY_LOW = 5, DELAY_HIGH = 5)\n",
    "start = time.time()\n",
    "e2e(network, flows)\n",
    "print(\"run time for e2e: \", time.time() - start)"
   ]
  },
  {
   "cell_type": "code",
   "execution_count": null,
   "metadata": {},
   "outputs": [],
   "source": [
    "'''\n",
    "net14\n",
    "pd_mcr: 0.13s\n",
    "e2e: 0.57s\n",
    "\n",
    "net50\n",
    "pd_mcr: 2.4s\n",
    "e2e: 9.5s\n",
    "'''"
   ]
  },
  {
   "cell_type": "code",
   "execution_count": 170,
   "metadata": {},
   "outputs": [
    {
     "data": {
      "text/plain": [
       "0.8"
      ]
     },
     "execution_count": 170,
     "metadata": {},
     "output_type": "execute_result"
    }
   ],
   "source": [
    "4/5"
   ]
  },
  {
   "cell_type": "code",
   "execution_count": 204,
   "metadata": {},
   "outputs": [],
   "source": [
    "config = {'network':'net14.txt', 'network_bandwidth':10, 'network_delay_low':5, 'network_delay_high':5, \\\n",
    "          'number_of_flows_range':range(1, 201, 10), 'duplicates':10, \\\n",
    "          'flow_bandwidth_low':3, 'flow_bandwidth_high':5, 'flow_delay_low':0, 'flow_delay_high':200, \\\n",
    "          'flows':None \\\n",
    "         }\n"
   ]
  },
  {
   "cell_type": "code",
   "execution_count": 207,
   "metadata": {},
   "outputs": [],
   "source": [
    "def run_experiment(config):\n",
    "    x = []\n",
    "    acc_rate_pd_mcr_mean = []\n",
    "    acc_rate_e2e_mean = []\n",
    "    acc_rate_pd_mcr_sd = []\n",
    "    acc_rate_e2e_sd = []\n",
    "    \n",
    "    \n",
    "    time_pd_mcr_mean = []\n",
    "    time_e2e_mean = []\n",
    "    time_pd_mcr_sd = []\n",
    "    time_e2e_sd = []\n",
    "    \n",
    "\n",
    "    for num_of_flow in config['number_of_flows_range']:\n",
    "        acc_rate_pd_mcr = []\n",
    "        acc_rate_e2e = []\n",
    "        time_pd_mcr = []\n",
    "        time_e2e = []\n",
    "\n",
    "        print(\"Testing: \", num_of_flow, \"flows\")\n",
    "        for _ in range(config['duplicates']):\n",
    "            network = Network(input_file = config['network'], BANDWIDTH = config['network_bandwidth'], DELAY_LOW = config['network_delay_low'], DELAY_HIGH = config['network_delay_high'])\n",
    "            flows = Flow.generate_random_flows(num_of_flow, network, BANDWIDTH_LOW = config['flow_bandwidth_low'], BANDWIDTH_HIGH = config['flow_bandwidth_high'], DELAY_LOW = config['flow_delay_low'], DELAY_HIGH = config['flow_delay_high'])\n",
    "            \n",
    "            if config['same_flow_test']:\n",
    "                flows = [flows[0]] * num_of_flow\n",
    "\n",
    "            network = Network(input_file = config['network'], BANDWIDTH = config['network_bandwidth'], DELAY_LOW = config['network_delay_low'], DELAY_HIGH = config['network_delay_high'])\n",
    "\n",
    "            start_1 = time.time()\n",
    "            acc_rate_pd_mcr.append(pd_mcr(network, flows))\n",
    "            time_pd_mcr.append(time.time() - start_1)\n",
    "\n",
    "\n",
    "\n",
    "            network = Network(input_file = config['network'], BANDWIDTH = config['network_bandwidth'], DELAY_LOW = config['network_delay_low'], DELAY_HIGH = config['network_delay_high'])\n",
    "\n",
    "            start_2 = time.time()\n",
    "            acc_rate_e2e.append(e2e(network, flows))\n",
    "            time_e2e.append(time.time() - start_2)\n",
    "\n",
    "\n",
    "        print(\"pd_mcr: \", sum(acc_rate_pd_mcr) / len(acc_rate_pd_mcr))\n",
    "        print(\"e2e: \", sum(acc_rate_e2e) / len(acc_rate_e2e))\n",
    "\n",
    "        x.append(num_of_flow)\n",
    "\n",
    "        acc_rate_pd_mcr_mean.append(statistics.mean(acc_rate_pd_mcr))\n",
    "        acc_rate_e2e_mean.append(statistics.mean(acc_rate_e2e))\n",
    "        acc_rate_pd_mcr_sd.append(statistics.stdev(acc_rate_pd_mcr))\n",
    "        acc_rate_e2e_sd.append(statistics.stdev(acc_rate_e2e))\n",
    "\n",
    "        time_pd_mcr_mean.append(statistics.mean(time_pd_mcr))\n",
    "        time_e2e_mean.append(statistics.mean(time_e2e))\n",
    "        time_pd_mcr_sd.append(statistics.stdev(time_pd_mcr))\n",
    "        time_e2e_sd.append(statistics.stdev(time_e2e))\n",
    "        \n",
    "    \n",
    "    \n",
    "    # with error bar\n",
    "        \n",
    "    plt.xlabel(\"Number of Flows\")\n",
    "    plt.ylabel(\"Mean Acceptance Rate of\" + str(config['duplicates']) + \"experiments\")\n",
    "    plt.title(config['network'] + \"Acceptance Rate\")\n",
    "    plt.plot(x,acc_rate_pd_mcr_mean,label='pd_mcr', color='red',marker='o')\n",
    "    plt.errorbar(x, acc_rate_pd_mcr_mean, acc_rate_pd_mcr_sd, linestyle='None', color='red', marker='o', capsize=config['duplicates'])\n",
    "    \n",
    "    plt.plot(x,acc_rate_e2e_mean,label='e2e', color='blue',marker='o')\n",
    "    plt.errorbar(x, acc_rate_e2e_mean, acc_rate_e2e_sd, linestyle='None', color='blue', marker='o', capsize=config['duplicates'])\n",
    "    \n",
    "    plt.legend()\n",
    "    if config['file_output']:\n",
    "        plt.savefig(config['network'] + '_experiment_acc_rate_with_error_bar' + str(time.time()) + '.pdf')\n",
    "    plt.show()\n",
    "    \n",
    "    \n",
    "    \n",
    "\n",
    "    plt.xlabel(\"Number of Flows\")\n",
    "    plt.ylabel(\"Mean Execution Time of 2 experiments\")\n",
    "    plt.title(config['network'] + \"Execution Time\")\n",
    "    \n",
    "    plt.plot(x,time_pd_mcr_mean,label='pd_mcr', color='red',marker='o')\n",
    "    plt.errorbar(x, time_pd_mcr_mean, time_pd_mcr_sd, linestyle='None', color='red', marker='o', capsize=config['duplicates'])\n",
    "    \n",
    "    plt.plot(x, time_e2e_mean,label='e2e', color='blue',marker='o')\n",
    "    plt.errorbar(x, time_e2e_mean, time_e2e_sd, linestyle='None', color='blue', marker='o', capsize=config['duplicates'])\n",
    "    \n",
    "    plt.legend()\n",
    "    if config['file_output']:\n",
    "        plt.savefig(config['network'] + '_experiment_ext_time_with_error_bar' + str(time.time()) + '.pdf')\n",
    "    plt.show()\n",
    "    \n",
    "    \n",
    "    \n",
    "    # without error bar\n",
    "    \n",
    "    plt.xlabel(\"Number of Flows\")\n",
    "    plt.ylabel(\"Mean Acceptance Rate of\" + str(config['duplicates']) + \"experiments\")\n",
    "    plt.title(config['network'] + \"Acceptance Rate\")\n",
    "    plt.plot(x,acc_rate_pd_mcr_mean,label='pd_mcr', color='red',marker='o')\n",
    "    \n",
    "    plt.plot(x,acc_rate_e2e_mean,label='e2e', color='blue',marker='o')\n",
    "    \n",
    "    plt.legend()\n",
    "    if config['file_output']:\n",
    "        plt.savefig(config['network'] + '_experiment_acc_rate' + str(time.time()) + '.pdf')\n",
    "    plt.show()\n",
    "    \n",
    "    \n",
    "    \n",
    "\n",
    "    plt.xlabel(\"Number of Flows\")\n",
    "    plt.ylabel(\"Mean Execution Time of\" + str(config['duplicates']) + \"experiments\")\n",
    "    plt.title(config['network'] + \"Execution Time\")\n",
    "    \n",
    "    plt.plot(x,time_pd_mcr_mean,label='pd_mcr', color='red',marker='o')\n",
    "    \n",
    "    plt.plot(x, time_e2e_mean,label='e2e', color='blue',marker='o')\n",
    "    \n",
    "    plt.legend()\n",
    "    if config['file_output']:\n",
    "        plt.savefig(config['network'] + '_experiment_ext_time' + str(time.time()) + '.pdf')\n",
    "    plt.show()"
   ]
  },
  {
   "cell_type": "code",
   "execution_count": 357,
   "metadata": {},
   "outputs": [],
   "source": [
    "config = {'network':'net14.txt', 'network_bandwidth':10, 'network_delay_low':5, 'network_delay_high':5, \\\n",
    "          'number_of_flows_range':range(1, 202, 10), 'duplicates':10, \\\n",
    "          'flow_bandwidth_low':3, 'flow_bandwidth_high':5, 'flow_delay_low':0, 'flow_delay_high':200, \\\n",
    "          'same_flow_test':False, 'file_output':True \\\n",
    "         }"
   ]
  },
  {
   "cell_type": "code",
   "execution_count": null,
   "metadata": {},
   "outputs": [
    {
     "name": "stdout",
     "output_type": "stream",
     "text": [
      "Testing:  1 flows\n",
      "pd_mcr:  1.0\n",
      "e2e:  1.0\n",
      "Testing:  11 flows\n",
      "pd_mcr:  0.9181818181818182\n",
      "e2e:  0.8818181818181821\n",
      "Testing:  21 flows\n",
      "pd_mcr:  0.8047619047619048\n",
      "e2e:  0.6571428571428571\n",
      "Testing:  31 flows\n",
      "pd_mcr:  0.638709677419355\n",
      "e2e:  0.5129032258064516\n",
      "Testing:  41 flows\n",
      "pd_mcr:  0.5292682926829269\n",
      "e2e:  0.39756097560975606\n",
      "Testing:  51 flows\n"
     ]
    }
   ],
   "source": [
    "run_experiment(config)"
   ]
  },
  {
   "cell_type": "code",
   "execution_count": null,
   "metadata": {},
   "outputs": [],
   "source": []
  },
  {
   "cell_type": "code",
   "execution_count": null,
   "metadata": {},
   "outputs": [],
   "source": []
  }
 ],
 "metadata": {
  "kernelspec": {
   "display_name": "Python 3",
   "language": "python",
   "name": "python3"
  },
  "language_info": {
   "codemirror_mode": {
    "name": "ipython",
    "version": 3
   },
   "file_extension": ".py",
   "mimetype": "text/x-python",
   "name": "python",
   "nbconvert_exporter": "python",
   "pygments_lexer": "ipython3",
   "version": "3.7.6"
  }
 },
 "nbformat": 4,
 "nbformat_minor": 4
}

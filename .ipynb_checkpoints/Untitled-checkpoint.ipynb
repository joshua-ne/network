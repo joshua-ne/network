{
 "cells": [
  {
   "cell_type": "code",
   "execution_count": 1,
   "metadata": {},
   "outputs": [],
   "source": [
    "from network import *"
   ]
  },
  {
   "cell_type": "code",
   "execution_count": 2,
   "metadata": {},
   "outputs": [],
   "source": [
    "config = {'network_folder':'net_topos', 'network':'net14.txt', 'network_bandwidth':10, 'network_delay_low':5, 'network_delay_high':5, \\\n",
    "          'number_of_flows_range':range(1, 5, 1), 'duplicates':2, \\\n",
    "          'flow_bandwidth_low':3, 'flow_bandwidth_high':5, 'flow_delay_low':0, 'flow_delay_high':200, \\\n",
    "          'same_flow_test':False, 'file_output':False, 'output_folder':'outputs', 'file_name_prefix':''  \\\n",
    "         }"
   ]
  },
  {
   "cell_type": "raw",
   "metadata": {},
   "source": [
    "run_experiment(config)"
   ]
  },
  {
   "cell_type": "code",
   "execution_count": null,
   "metadata": {},
   "outputs": [],
   "source": []
  }
 ],
 "metadata": {
  "kernelspec": {
   "display_name": "Python 3",
   "language": "python",
   "name": "python3"
  },
  "language_info": {
   "codemirror_mode": {
    "name": "ipython",
    "version": 3
   },
   "file_extension": ".py",
   "mimetype": "text/x-python",
   "name": "python",
   "nbconvert_exporter": "python",
   "pygments_lexer": "ipython3",
   "version": "3.7.6"
  }
 },
 "nbformat": 4,
 "nbformat_minor": 4
}
